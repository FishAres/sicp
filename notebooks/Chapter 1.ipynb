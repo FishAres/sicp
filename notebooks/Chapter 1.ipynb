{
 "cells": [
  {
   "cell_type": "markdown",
   "metadata": {},
   "source": [
    "## Computing square roots\n",
    "\n",
    "The mathematical definition of a square root tells us nothing about how to compute one algorithmically (imperative) - only about doing it symbolically in our heads through weird brain magic (declarative)\n",
    "\n",
    "### Newton's method $\\star$\n",
    "\n",
    "To calculate sqrt x:\n",
    "\n",
    "Start with a guess, then improve it by averaging $(guess + \\large{\\frac{x}{guess}})$\n",
    "\n",
    "We can set a criterion for when our guess is good enough, and stop the recursion then (i.e. the boundary case)\n",
    "\n",
    "According to the authors, declarative and imperative descriptions are very closely tied. E.g., to state that the output of a program is \"correct\" is a declarative statement about it.\n",
    "\n",
    "Back in the olden days apparently people cared about abstraction enough that they were trying to design languages tha took declarative input and could produce imperative programs to fulfill it. It cannot be done in general, but you can sort-of do it sometimes. This will apparently come up again in chapter 4.\n",
    "\n",
    "$\\star$ Apparently this is a special case of it - the general form computes roots of equations"
   ]
  },
  {
   "cell_type": "code",
   "execution_count": 39,
   "metadata": {},
   "outputs": [],
   "source": [
    "(define (sqrt-iter guess x)\n",
    "  (if (good-enough? guess x)\n",
    "      guess\n",
    "      (sqrt-iter (improve guess x) x)))\n",
    "\n",
    ";; where\n",
    "\n",
    "(define (improve guess x)\n",
    "  (average guess (/ x guess)))\n",
    "\n",
    "(define (average x y)\n",
    "  (/ (+ x y) 2))\n",
    "\n",
    "(define (good-enough? guess x)\n",
    "  (< (abs (- (square guess) x)) 0.0001))\n",
    "\n",
    ";; also where\n",
    "\n",
    "(define (square x) (* x x))\n",
    "\n",
    "(define (abs x)\n",
    "  (cond ((>= x 0) x)\n",
    "        (else (- x))))"
   ]
  },
  {
   "cell_type": "code",
   "execution_count": 2,
   "metadata": {},
   "outputs": [],
   "source": [
    ";; finally\n",
    "\n",
    "(define (sqrt_ x)\n",
    "  (sqrt-iter 1.0 x))"
   ]
  },
  {
   "cell_type": "code",
   "execution_count": 3,
   "metadata": {},
   "outputs": [
    {
     "name": "stdout",
     "output_type": "stream",
     "text": [
      "1.4142156862745097\n",
      "3.000000001396984\n"
     ]
    }
   ],
   "source": [
    "(displayln (sqrt_ 2))\n",
    "(displayln (sqrt_ 9))"
   ]
  },
  {
   "cell_type": "markdown",
   "metadata": {},
   "source": [
    "## Exercises 1.6 - 1.8\n",
    "\n",
    "### 1.6"
   ]
  },
  {
   "cell_type": "code",
   "execution_count": 64,
   "metadata": {},
   "outputs": [
    {
     "name": "stdout",
     "output_type": "stream",
     "text": [
      "5\n"
     ]
    }
   ],
   "source": [
    "(define (new-if predicate then-clause else-clause)\n",
    "  (cond (predicate then-clause)\n",
    "        (else else-clause)))\n",
    "\n",
    "(displayln (new-if (= 2 3) 0 5))\n",
    "\n",
    ";; what if we do\n",
    "\n",
    "(define (sqrt-iter guess x)\n",
    "  (new-if (good-enough? guess x)          ;; predicate\n",
    "          guess                           ;; then-clause\n",
    "          (sqrt-iter (improve guess x) x) ;; else-clause\n",
    "          ))"
   ]
  },
  {
   "cell_type": "markdown",
   "metadata": {},
   "source": [
    "This one was tricky (and I had to look it up). $\\text{new-if}$ will try to evaluate *all* of its arguments and will therefore keep trying to evaluate sqrt-iter, which will call itself etc. etc. It will go into an infinite loop.\n",
    "\n",
    "### 1.7\n",
    "\n",
    "\n",
    "The current $\\text{sqrt_}$ function won't converge for pretty big or pretty small numbers. Fix it by adjusting the threshold to be when the change is a small fraction of the guess.\n",
    "\n",
    "- For large numbers the difference $guess^2 - x$ will never be that small\n",
    "- For small numbers the difference will be too big since the squares will be tiny (i think?)"
   ]
  },
  {
   "cell_type": "code",
   "execution_count": 40,
   "metadata": {},
   "outputs": [
    {
     "data": {
      "text/html": [
       "<code>#f</code>"
      ],
      "text/plain": [
       "#f"
      ]
     },
     "execution_count": 40,
     "metadata": {},
     "output_type": "execute_result"
    }
   ],
   "source": [
    ";; sqrt(0.000001) = sqrt(0.0000001)\n",
    "(> (- (sqrt_ 0.000001) (sqrt_ 0.0000001) ) 0.0001)"
   ]
  },
  {
   "cell_type": "code",
   "execution_count": 41,
   "metadata": {},
   "outputs": [
    {
     "data": {
      "text/html": [
       "<code>#t</code>"
      ],
      "text/plain": [
       "#t"
      ]
     },
     "execution_count": 41,
     "metadata": {},
     "output_type": "execute_result"
    }
   ],
   "source": [
    ";; 1.7\n",
    "(define (good-enough? guess x)\n",
    "  (< (abs (/ (- (square guess) x) (square guess))) 0.001))\n",
    "\n",
    "(> (- (sqrt_ 0.000001) (sqrt_ 0.0000001) ) 0.0001)"
   ]
  },
  {
   "cell_type": "markdown",
   "metadata": {},
   "source": [
    "### 1.8\n",
    "\n",
    "For cube roots, the trick is:\n",
    "\n",
    "If $y$ is an approximation of $^3\\sqrt{x}$ then a better one is given by\n",
    "\n",
    "\n",
    "$$ \\frac{ x / y^2 + 2y}{3} $$\n",
    "\n",
    "Use this to get cube roots for things\n",
    "\n",
    "(I decided to make it fancy by guessing the general case: \n",
    "$$\\frac{(n - 1)y + x / y^{(n-1)} }{n}$$ )\n"
   ]
  },
  {
   "cell_type": "code",
   "execution_count": 65,
   "metadata": {},
   "outputs": [],
   "source": [
    "(define (good-enough? guess x order)\n",
    "    (< (abs (/ (- (expt guess order) x)\n",
    "               (expt guess order) )) 0.00001))\n",
    "\n",
    "(define (root-iter guess x order)\n",
    "  (if (good-enough? guess x order)\n",
    "      guess\n",
    "      (root-iter (improve guess x order) x order)))\n",
    "\n",
    "(define (improve guess x order)\n",
    "  (/ (+ (* (- order 1) guess) (/ x (expt guess (- order 1)))) order))\n",
    "\n",
    "(define (abs x)\n",
    "  (cond ((>= x 0) x)\n",
    "        (else (- x))))"
   ]
  },
  {
   "cell_type": "code",
   "execution_count": 66,
   "metadata": {},
   "outputs": [],
   "source": [
    "(define (root x order)\n",
    "  (root-iter 1.0 x order))"
   ]
  },
  {
   "cell_type": "code",
   "execution_count": 67,
   "metadata": {},
   "outputs": [
    {
     "name": "stdout",
     "output_type": "stream",
     "text": [
      "2.000004911675504\n",
      "3.000000257729561\n",
      "2.4914618804437842\n",
      "2.498049536127603\n",
      "2.1917998669575485\n"
     ]
    }
   ],
   "source": [
    "(println (root 8   3))\n",
    "(println (root 81  4))\n",
    "(println (root 96  5))\n",
    "(println (root 243 6))\n",
    "(println (root 243 7))"
   ]
  },
  {
   "cell_type": "markdown",
   "metadata": {},
   "source": [
    "## Procedures as black-box abstractions"
   ]
  },
  {
   "cell_type": "code",
   "execution_count": null,
   "metadata": {},
   "outputs": [],
   "source": []
  }
 ],
 "metadata": {
  "kernelspec": {
   "display_name": "Racket",
   "language": "racket",
   "name": "racket"
  },
  "language_info": {
   "codemirror_mode": "scheme",
   "file_extension": ".rkt",
   "mimetype": "text/x-racket",
   "name": "Racket",
   "pygments_lexer": "racket",
   "version": "7.8"
  }
 },
 "nbformat": 4,
 "nbformat_minor": 4
}
