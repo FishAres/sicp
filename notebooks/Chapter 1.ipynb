{
 "cells": [
  {
   "cell_type": "markdown",
   "metadata": {},
   "source": [
    "## Computing square roots\n",
    "\n",
    "The mathematical definition of a square root tells us nothing about how to compute one algorithmically (imperative) - only about doing it symbolically in our heads through weird brain magic (declarative)\n",
    "\n",
    "### Newton's method $\\small \\star$\n",
    "\n",
    "To calculate sqrt x:\n",
    "\n",
    "Start with a guess, then improve it by averaging $(guess + \\large{\\frac{x}{guess}})$\n",
    "\n",
    "We can set a criterion for when our guess is good enough, and stop the recursion then (i.e. the boundary case)\n",
    "\n",
    "According to the authors, declarative and imperative descriptions are very closely tied. E.g., to state that the output of a program is \"correct\" is a declarative statement about it.\n",
    "\n",
    "Back in the olden days apparently people cared about abstraction enough that they were trying to design languages tha took declarative input and could produce imperative programs to fulfill it. It cannot be done in general, but you can sort-of do it sometimes. This will apparently come up again in chapter 4.\n",
    "\n",
    "$\\star$ Apparently this is a special case of it - the general form computes roots of equations\n",
    "\n",
    "\n",
    "$\\star \\star$ Note that some exercises will be in separate notebooks"
   ]
  },
  {
   "cell_type": "code",
   "execution_count": 39,
   "metadata": {},
   "outputs": [],
   "source": [
    "(define (sqrt-iter guess x)\n",
    "  (if (good-enough? guess x)\n",
    "      guess\n",
    "      (sqrt-iter (improve guess x) x)))\n",
    "\n",
    ";; where\n",
    "\n",
    "(define (improve guess x)\n",
    "  (average guess (/ x guess)))\n",
    "\n",
    "(define (average x y)\n",
    "  (/ (+ x y) 2))\n",
    "\n",
    "(define (good-enough? guess x)\n",
    "  (< (abs (- (square guess) x)) 0.0001))\n",
    "\n",
    ";; also where\n",
    "\n",
    "(define (square x) (* x x))\n",
    "\n",
    "(define (abs x)\n",
    "  (cond ((>= x 0) x)\n",
    "        (else (- x))))"
   ]
  },
  {
   "cell_type": "code",
   "execution_count": 2,
   "metadata": {},
   "outputs": [],
   "source": [
    ";; finally\n",
    "\n",
    "(define (sqrt_ x)\n",
    "  (sqrt-iter 1.0 x))"
   ]
  },
  {
   "cell_type": "code",
   "execution_count": 3,
   "metadata": {},
   "outputs": [
    {
     "name": "stdout",
     "output_type": "stream",
     "text": [
      "1.4142156862745097\n",
      "3.000000001396984\n"
     ]
    }
   ],
   "source": [
    "(displayln (sqrt_ 2))\n",
    "(displayln (sqrt_ 9))"
   ]
  },
  {
   "cell_type": "markdown",
   "metadata": {},
   "source": [
    "## Exercises 1.6 - 1.8\n",
    "\n",
    "### 1.6"
   ]
  },
  {
   "cell_type": "code",
   "execution_count": 64,
   "metadata": {},
   "outputs": [
    {
     "name": "stdout",
     "output_type": "stream",
     "text": [
      "5\n"
     ]
    }
   ],
   "source": [
    "(define (new-if predicate then-clause else-clause)\n",
    "  (cond (predicate then-clause)\n",
    "        (else else-clause)))\n",
    "\n",
    "(displayln (new-if (= 2 3) 0 5))\n",
    "\n",
    ";; what if we do\n",
    "\n",
    "(define (sqrt-iter guess x)\n",
    "  (new-if (good-enough? guess x)          ;; predicate\n",
    "          guess                           ;; then-clause\n",
    "          (sqrt-iter (improve guess x) x) ;; else-clause\n",
    "          ))"
   ]
  },
  {
   "cell_type": "markdown",
   "metadata": {},
   "source": [
    "This one was tricky (and I had to look it up). $\\text{new-if}$ will try to evaluate *all* of its arguments and will therefore keep trying to evaluate sqrt-iter, which will call itself etc. etc. It will go into an infinite loop.\n",
    "\n",
    "### 1.7\n",
    "\n",
    "\n",
    "The current $\\text{sqrt_}$ function won't converge for pretty big or pretty small numbers. Fix it by adjusting the threshold to be when the change is a small fraction of the guess.\n",
    "\n",
    "- For large numbers the difference $guess^2 - x$ will never be that small\n",
    "- For small numbers the difference will be too big since the squares will be tiny (i think?)"
   ]
  },
  {
   "cell_type": "code",
   "execution_count": 40,
   "metadata": {},
   "outputs": [
    {
     "data": {
      "text/html": [
       "<code>#f</code>"
      ],
      "text/plain": [
       "#f"
      ]
     },
     "execution_count": 40,
     "metadata": {},
     "output_type": "execute_result"
    }
   ],
   "source": [
    ";; sqrt(0.000001) = sqrt(0.0000001) - ie it doesn't converge\n",
    "(> (- (sqrt_ 0.000001) (sqrt_ 0.0000001) ) 0.0001)"
   ]
  },
  {
   "cell_type": "code",
   "execution_count": 41,
   "metadata": {},
   "outputs": [
    {
     "data": {
      "text/html": [
       "<code>#t</code>"
      ],
      "text/plain": [
       "#t"
      ]
     },
     "execution_count": 41,
     "metadata": {},
     "output_type": "execute_result"
    }
   ],
   "source": [
    ";; 1.7\n",
    "(define (good-enough? guess x)\n",
    "  (< (abs (/ (- (square guess) x) (square guess))) 0.001))\n",
    "\n",
    "(> (- (sqrt_ 0.000001) (sqrt_ 0.0000001) ) 0.0001)"
   ]
  },
  {
   "cell_type": "markdown",
   "metadata": {},
   "source": [
    "### 1.8\n",
    "\n",
    "For cube roots, the trick is:\n",
    "\n",
    "If $y$ is an approximation of $^3\\sqrt{x}$ then a better one is given by\n",
    "\n",
    "\n",
    "$$ \\frac{ x / y^2 + 2y}{3} $$\n",
    "\n",
    "Use this to get cube roots for things\n",
    "\n",
    "I decided to make it fancy by guessing the general case for $^n \\sqrt{x}$: \n",
    "\n",
    "$$\\frac{(n - 1)y + x / y^{(n-1)} }{n}$$ \n"
   ]
  },
  {
   "cell_type": "code",
   "execution_count": 65,
   "metadata": {},
   "outputs": [],
   "source": [
    "(define (good-enough? guess x order)\n",
    "    (< (abs (/ (- (expt guess order) x)\n",
    "               (expt guess order) )) 0.00001))\n",
    "\n",
    "(define (root-iter guess x order)\n",
    "  (if (good-enough? guess x order)\n",
    "      guess\n",
    "      (root-iter (improve guess x order) x order)))\n",
    "\n",
    "(define (improve guess x order)\n",
    "  (/ (+ (* (- order 1) guess) (/ x (expt guess (- order 1)))) order))\n",
    "\n",
    "(define (abs x)\n",
    "  (cond ((>= x 0) x)\n",
    "        (else (- x))))"
   ]
  },
  {
   "cell_type": "code",
   "execution_count": 66,
   "metadata": {},
   "outputs": [],
   "source": [
    "(define (root x order)\n",
    "  (root-iter 1.0 x order))"
   ]
  },
  {
   "cell_type": "code",
   "execution_count": 67,
   "metadata": {},
   "outputs": [
    {
     "name": "stdout",
     "output_type": "stream",
     "text": [
      "2.000004911675504\n",
      "3.000000257729561\n",
      "2.4914618804437842\n",
      "2.498049536127603\n",
      "2.1917998669575485\n"
     ]
    }
   ],
   "source": [
    "(println (root 8   3))\n",
    "(println (root 81  4))\n",
    "(println (root 96  5))\n",
    "(println (root 243 6))\n",
    "(println (root 243 7))"
   ]
  },
  {
   "cell_type": "markdown",
   "metadata": {},
   "source": [
    "## Procedures as black-box abstractions\n",
    "\n",
    "Note that we've split the recursive sqrt-iter algorithm into a number of smaller programs, each of which performs an independent computation. Because of this design, we can see util function like ***square*** like \"black boxes\", i.e. we don't really care about how it works, just that it does something we want - any square function is ok. *square* isn't so much a procedure as a ***procedural abstraction***. Similarly, the end user shouldn't have to care about the names of the formal parameters of the abstract procedure.\n",
    "\n",
    "The important thing here is that parameters are local to each function, i.e. in their scope. So we can instead define the whole sqrt procedure as one big function where x is only passed around once and doesn't need to be re-defined as an argument for the functions that use it.\n",
    "\n",
    "By extension, it's important that systems are *composable* - they reuse functions that are general to more than one task. e.g. ***good-enough?*** can be used for any arbitrary tolerance edge case in a recursive function if it's generalized appropriately."
   ]
  },
  {
   "cell_type": "code",
   "execution_count": 2,
   "metadata": {},
   "outputs": [],
   "source": [
    "(define (sqrt x)\n",
    "  (define (good-enough? guess)\n",
    "    (< (abs (- (square guess) x)) 0.001))\n",
    "  (define (improve guess)\n",
    "    (average guess (/ x  guess)))\n",
    "  (define (sqrt-iter guess)\n",
    "    (if (good-enough? guess)\n",
    "        guess\n",
    "        (sqrt-iter (improve guess))) )\n",
    "  (sqrt-iter 1.0) )\n",
    "\n",
    "\n",
    "(define (average x y)\n",
    "  (/ 2 (+ x y)))\n",
    "\n",
    "(define (square x)\n",
    "      (* x x))\n"
   ]
  },
  {
   "cell_type": "markdown",
   "metadata": {},
   "source": [
    "## 1.2 Procedures and the processes they generate\n",
    "\n",
    "e.g. factorial"
   ]
  },
  {
   "cell_type": "code",
   "execution_count": 3,
   "metadata": {},
   "outputs": [],
   "source": [
    "(define (factorial n)\n",
    "  (if (= n 1)\n",
    "      1\n",
    "      (* n (factorial (- n 1)))))"
   ]
  },
  {
   "cell_type": "code",
   "execution_count": 4,
   "metadata": {},
   "outputs": [
    {
     "data": {
      "text/html": [
       "<code>720</code>"
      ],
      "text/plain": [
       "720"
      ]
     },
     "execution_count": 4,
     "metadata": {},
     "output_type": "execute_result"
    }
   ],
   "source": [
    "(factorial 6)"
   ]
  },
  {
   "cell_type": "markdown",
   "metadata": {},
   "source": [
    "The evaluation happens like so\n",
    "\n",
    "```scheme\n",
    "(factorial 6)                                 ;;\n",
    "(* 6 (factorial 5))                           ;;\n",
    "(* 6 (* 5 (factorial 4)))                     ;;\n",
    "(* 6 (* 5 (* 4 (factorial 3))))               ;;\n",
    "(* 6 (* 5 (* 4 (* 3 (factorial 2)))))         ;;\n",
    "(* 6 (* 5 (* 4 (* 3 (* 2 (factorial 1))))))   ;; O(6) (i.e. O(n) ) time\n",
    "(* 6 (* 5 (* 4 (* 3 (* 2 1)))))               ;;\n",
    "(* 6 (* 5 (* 4 (* 3 2))))                     ;;\n",
    "(* 6 (* 5 (* 4 6)))                           ;;\n",
    "(* 6 (* 5 24))                                ;;\n",
    "(* 6 120)                                     ;;\n",
    "720\n",
    "\n",
    ";; =============================================\n",
    ";;               O(n) space\n",
    "```\n",
    "\n",
    "\n",
    "This is obviously quite inefficient. The expansion in the middle is due to *deferred substitution*. The process is called a ***linear recursive proces***\n",
    "\n",
    "A different strategy is to keep a running product. Not we can still avoid it being mutable by being clever with recursion. "
   ]
  },
  {
   "cell_type": "code",
   "execution_count": 1,
   "metadata": {},
   "outputs": [],
   "source": [
    "(define (factorial n)\n",
    "  (fact-iter 1 1 n))\n",
    "\n",
    "(define (fact-iter product counter max-count)\n",
    "    (if (> counter max-count)\n",
    "        product\n",
    "        (fact-iter (* counter product)\n",
    "                   (+ counter 1)\n",
    "                   max-count)) )"
   ]
  },
  {
   "cell_type": "markdown",
   "metadata": {},
   "source": [
    "This looks better: runs in O(n) time and constant memory. It's a ***linear iterative process*** (even thouhg it's recursive)\n",
    "\n",
    "```scheme\n",
    "(factorial 6)\n",
    "(fact-iter 1 1 6)\n",
    "(fact-iter 1 2 6)\n",
    "(fact-iter 2 3 6)\n",
    "(fact-iter 6 4 6)\n",
    "(fact-iter 24 5 6)\n",
    "(fact-iter 120 6 6)\n",
    "(fact-iter 720 7 6)\n",
    "720\n",
    "```\n",
    "\n",
    "There's an interesting distinction here: Using the linear recursive version, if we Ctrl-C'd the program somewhere, we would be unable to resume the evaluation afterwards - but could pick up at any point using the iterative one. \n",
    "\n",
    "\n",
    "C-like languages need to use loops to do this.\n",
    "\n",
    "## Exercises 1.9 -1.10\n",
    "\n",
    "### 1.9\n",
    "\n",
    "```scheme\n",
    "(define (+ a b)\n",
    "(if (= a 0) b (inc (+ (dec a) b))))\n",
    "\n",
    "(define (+ a b)\n",
    "(if (= a 0) b (+ (dec a) (inc b))))\n",
    "```\n",
    "\n",
    "The first process is **recursive** - it bloats like the naive factorial function. The second process is **iterative**"
   ]
  },
  {
   "cell_type": "code",
   "execution_count": 6,
   "metadata": {},
   "outputs": [],
   "source": [
    "(define (A x y)\n",
    "  (cond ((= y 0) 0)\n",
    "        ((= x 0) (* 2 y))\n",
    "        ((= y 1) 2)\n",
    "        (else (A (- x 1) (A x (- y 1)))) ) )"
   ]
  },
  {
   "cell_type": "markdown",
   "metadata": {},
   "source": [
    "## Tree recursion"
   ]
  },
  {
   "cell_type": "code",
   "execution_count": 9,
   "metadata": {},
   "outputs": [],
   "source": [
    "(define (fib n)\n",
    "  (cond ((= n 0) 0)\n",
    "        ((= n 1) 1)\n",
    "        (else (+ (fib (- n 1))\n",
    "                 (fib (- n 2)))) ) )"
   ]
  },
  {
   "cell_type": "markdown",
   "metadata": {},
   "source": [
    "If you expand the computations into a tree, you'll see that we have to compute (fib k) where k < n multiple times. This is hugely memory inefficient.\n",
    "\n",
    "Apparently, fib(n) is the closest integer to $\\phi^n / \\sqrt{5} $, where $\\phi = \\large \\frac{1 + \\sqrt{5}}{2} \\approx \\small 1.618 $ is the golden ratio.\n",
    "\n",
    "Generally, tree recursive processes will take exponential time in n, and linear memory in n. They can be very useful for hierarchically structured data though.\n",
    "\n",
    "We can improve this by making it iterative like above\n"
   ]
  },
  {
   "cell_type": "code",
   "execution_count": 1,
   "metadata": {},
   "outputs": [],
   "source": [
    "(define (fib n)\n",
    "  (fib-iter 1 0 n))\n",
    "\n",
    "(define (fib-iter a b count)\n",
    "  (if (= count 0)\n",
    "      b\n",
    "      (fib-iter (+ a b) a (- count 1))))"
   ]
  },
  {
   "cell_type": "markdown",
   "metadata": {},
   "source": [
    "## Exercises 1.11 - 1.13\n",
    "\n",
    "### 1.11\n",
    "\n",
    "Write this fibonacci-ish function using a recursive and an iterative process"
   ]
  },
  {
   "cell_type": "code",
   "execution_count": null,
   "metadata": {},
   "outputs": [],
   "source": [
    ";; recursive\n",
    "\n",
    "(define (nfib n)\n",
    "  (if (< n 3)\n",
    "      n\n",
    "      (+ (nfib (- n 1)) (* 2 (nfib (- n 2))) (* 3 (nfib (- n 3)))) ))"
   ]
  },
  {
   "cell_type": "code",
   "execution_count": 8,
   "metadata": {},
   "outputs": [
    {
     "data": {
      "text/html": [
       "<code>61354575194</code>"
      ],
      "text/plain": [
       "61354575194"
      ]
     },
     "execution_count": 8,
     "metadata": {},
     "output_type": "execute_result"
    }
   ],
   "source": [
    "(nfib 30) ;; it'll get hairy soon - this takes ~ 1s on my machine"
   ]
  },
  {
   "cell_type": "code",
   "execution_count": 14,
   "metadata": {},
   "outputs": [],
   "source": [
    ";; i shamefully took this solution from http://community.schemewiki.org/?sicp-ex-1.11\n",
    "\n",
    "(define (nfib n)\n",
    "    (define (nfib-iter a b c count)\n",
    "      (cond ((= count 0) a)\n",
    "            ((< n 3)     n)\n",
    "            (else (nfib-iter (+ a (* 2 b) (* 3 c)) a b (- count 1))) ))\n",
    "      (nfib-iter 2 1 0 (- n 2)) )"
   ]
  },
  {
   "cell_type": "code",
   "execution_count": 25,
   "metadata": {},
   "outputs": [
    {
     "data": {
      "text/html": [
       "<code>429285341777505086291879477170078944250881374726914954774217395887598980875</code>"
      ],
      "text/plain": [
       "429285341777505086291879477170078944250881374726914954774217395887598980875"
      ]
     },
     "execution_count": 25,
     "metadata": {},
     "output_type": "execute_result"
    }
   ],
   "source": [
    "(nfib 200) ;; takes no appreciable time"
   ]
  },
  {
   "cell_type": "code",
   "execution_count": 1,
   "metadata": {},
   "outputs": [],
   "source": [
    ";; 1.13\n",
    "\n",
    "(define (pascal r c) \n",
    "    (if (or (= c 1) (= c r)) \n",
    "   1 \n",
    "   (+ (pascal (- r 1) (- c 1)) (pascal (- r 1) c))))"
   ]
  },
  {
   "cell_type": "code",
   "execution_count": 4,
   "metadata": {},
   "outputs": [
    {
     "data": {
      "text/html": [
       "<code>3</code>"
      ],
      "text/plain": [
       "3"
      ]
     },
     "execution_count": 4,
     "metadata": {},
     "output_type": "execute_result"
    }
   ],
   "source": [
    "(pascal 4 3)"
   ]
  },
  {
   "cell_type": "code",
   "execution_count": null,
   "metadata": {},
   "outputs": [],
   "source": []
  }
 ],
 "metadata": {
  "kernelspec": {
   "display_name": "Racket",
   "language": "racket",
   "name": "racket"
  },
  "language_info": {
   "codemirror_mode": "scheme",
   "file_extension": ".rkt",
   "mimetype": "text/x-racket",
   "name": "Racket",
   "pygments_lexer": "racket",
   "version": "7.8"
  }
 },
 "nbformat": 4,
 "nbformat_minor": 4
}
