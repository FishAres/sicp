{
 "cells": [
  {
   "cell_type": "markdown",
   "metadata": {},
   "source": [
    "1.2\n",
    "\n",
    "$$ \\frac{5 + 4 + (2 - (3 - (6 + \\frac{4}{5} )))}\n",
    "{3(6 - 2)(2 - 7)} $$"
   ]
  },
  {
   "cell_type": "code",
   "execution_count": 6,
   "metadata": {},
   "outputs": [
    {
     "data": {
      "text/html": [
       "<code>-37/150</code>"
      ],
      "text/plain": [
       "-37/150"
      ]
     },
     "execution_count": 6,
     "metadata": {},
     "output_type": "execute_result"
    }
   ],
   "source": [
    "(/\n",
    " (+ 5 (+ 4 (- 2 (- 3 (+ 6 (/ 4 5)) )) ) )\n",
    " (* (* (- 6 2) (- 2 7) ) 3 )\n",
    " )"
   ]
  },
  {
   "cell_type": "code",
   "execution_count": 2,
   "metadata": {},
   "outputs": [],
   "source": [
    ";; 1.3\n",
    ";; Define a procedure that takes three numbers as arguments\n",
    ";; and returns the sum of the squares of the two larger numbers\n",
    "\n",
    "(define (square x)\n",
    "  (* x x))\n",
    "\n",
    "(define (sum-square x y)\n",
    "  (+ (square x) (square y)))\n",
    "\n",
    "(define (bigman-square x y z)\n",
    "  (define sorted (cdr (sort (list x y z) <)) )\n",
    "        ;; this is a somewhat lazy way to do this\n",
    "        ;; maybe come back when you get a more elegant one\n",
    "        (let ((a (list-ref sorted 0)) (b (list-ref sorted 1)))\n",
    "          (sum-square a b) ))\n"
   ]
  },
  {
   "cell_type": "code",
   "execution_count": 3,
   "metadata": {},
   "outputs": [
    {
     "data": {
      "text/html": [
       "<code>#&lt;procedure:-&gt;</code>"
      ],
      "text/plain": [
       "#<procedure:->"
      ]
     },
     "execution_count": 3,
     "metadata": {},
     "output_type": "execute_result"
    }
   ],
   "source": [
    ";; 1.4\n",
    "(define (a-plus-abs-b a b)\n",
    "  ((if (> b 0) + -) a b))\n",
    "\n",
    "(if (> 2 3) + -) ;; this is cool"
   ]
  },
  {
   "cell_type": "code",
   "execution_count": 7,
   "metadata": {},
   "outputs": [],
   "source": [
    ";; 1.5 Normal vs applicative-order evaluation\n",
    ";; what would (test o (p)) do when\n",
    "\n",
    "(define (p) (p))\n",
    "\n",
    "(define (test x y)\n",
    "  (if (= x 0) 0 y))"
   ]
  },
  {
   "cell_type": "markdown",
   "metadata": {},
   "source": [
    "- With applicative-order evaluation, we would get 0\n",
    "\n",
    "\n",
    "- With normal-order, we would also get 0? (if (if) is evaluated the same, as in textbook)\n",
    "\n",
    "\n",
    "- With normal-order evaluation, we would get an infinite loop of ((p) (p) ..)"
   ]
  },
  {
   "cell_type": "code",
   "execution_count": 23,
   "metadata": {},
   "outputs": [],
   "source": []
  },
  {
   "cell_type": "code",
   "execution_count": null,
   "metadata": {},
   "outputs": [],
   "source": []
  }
 ],
 "metadata": {
  "kernelspec": {
   "display_name": "Racket",
   "language": "racket",
   "name": "racket"
  },
  "language_info": {
   "codemirror_mode": "scheme",
   "file_extension": ".rkt",
   "mimetype": "text/x-racket",
   "name": "Racket",
   "pygments_lexer": "racket",
   "version": "7.8"
  }
 },
 "nbformat": 4,
 "nbformat_minor": 4
}
